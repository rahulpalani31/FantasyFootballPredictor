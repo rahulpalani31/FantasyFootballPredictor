{
 "cells": [
  {
   "cell_type": "code",
   "execution_count": 31,
   "id": "initial_id",
   "metadata": {
    "collapsed": true,
    "ExecuteTime": {
     "end_time": "2024-09-15T22:14:15.634465Z",
     "start_time": "2024-09-15T22:14:15.631310Z"
    }
   },
   "outputs": [],
   "source": [
    "import requests\n",
    "from bs4 import BeautifulSoup\n",
    "import pandas as pd"
   ]
  },
  {
   "cell_type": "code",
   "execution_count": 32,
   "outputs": [],
   "source": [
    "def scrape_nfl_player_passing_stats(url):\n",
    "    response = requests.get(url)\n",
    "\n",
    "    # Check if request is successful\n",
    "    if response.status_code == 200:\n",
    "        # Parse HTML content with Beautiful Soup \n",
    "        soup = BeautifulSoup(response.text, 'html.parser')\n",
    "\n",
    "        # Locate data table with its ID\n",
    "        table = soup.find('table', {'id': 'passing'})\n",
    "\n",
    "        # Extract column headers from <thead>\n",
    "        headers = [th.text for th in table.find('thead').find_all('th')]\n",
    "\n",
    "        # Extract row data from <tbody>\n",
    "        rows = table.find('tbody').find_all('tr')\n",
    "\n",
    "        # Create list of lists w/ each cell from the table\n",
    "        data = [[td.text.strip() for td in row.find_all(['th', 'td'])] for row in rows]\n",
    "\n",
    "        # Output in pandas data frame format\n",
    "        df = pd.DataFrame(data, columns=headers)\n",
    "\n",
    "        print(\"Data and stats from Pro Football Reference (https://www.pro-football-reference.com/years/2024/passing.htm)\")\n",
    "\n",
    "        return df\n",
    "\n",
    "    else:\n",
    "        # Error message if request fails\n",
    "        print(f\"Failed to retrieve the webpage. Status code: {response.status_code}\")"
   ],
   "metadata": {
    "collapsed": false,
    "ExecuteTime": {
     "end_time": "2024-09-15T22:14:15.650906Z",
     "start_time": "2024-09-15T22:14:15.638229Z"
    }
   },
   "id": "a3f9b81ebc8b642c"
  },
  {
   "cell_type": "code",
   "execution_count": 33,
   "outputs": [
    {
     "name": "stdout",
     "output_type": "stream",
     "text": [
      "Data and stats from Pro Football Reference (https://www.pro-football-reference.com/years/2024/passing.htm)\n",
      "    Rk              Player Age Team Pos  G GS  QBrec Cmp Att  ...   Rate  \\\n",
      "0    1      Tua Tagovailoa  26  MIA  QB  2  2  1-1-0  40  62  ...   78.9   \n",
      "1    2          Josh Allen  28  BUF  QB  2  2  2-0-0  31  42  ...  124.2   \n",
      "2    3    Matthew Stafford  36  LAR  QB  1  1  0-1-0  34  49  ...   85.2   \n",
      "3    4     Patrick Mahomes  29  KAN  QB  1  1  1-0-0  20  28  ...  101.9   \n",
      "4    5      Baker Mayfield  29  TAM  QB  1  1  1-0-0  24  30  ...  146.4   \n",
      "5    6         Jalen Hurts  26  PHI  QB  1  1  1-0-0  20  34  ...   80.3   \n",
      "6    7       Lamar Jackson  27  BAL  QB  1  1  0-1-0  26  41  ...   90.8   \n",
      "7    8         Jordan Love  26  GNB  QB  1  1  0-1-0  17  34  ...   83.0   \n",
      "8    9  Gardner Minshew II  28  LVR  QB  1  1  0-1-0  25  33  ...   95.1   \n",
      "9   10         C.J. Stroud  23  HOU  QB  1  1  1-0-0  24  32  ...  115.9   \n",
      "10  11         Brock Purdy  25  SFO  QB  1  1  1-0-0  19  29  ...   89.9   \n",
      "11  12          Jared Goff  30  DET  QB  1  1  1-0-0  18  28  ...   85.0   \n",
      "12  13  Anthony Richardson  22  IND  QB  1  1  0-1-0   9  19  ...  101.2   \n",
      "13  14         Sam Darnold  27  MIN  QB  1  1  1-0-0  19  24  ...  113.2   \n",
      "14  15          Derek Carr  33  NOR  QB  1  1  1-0-0  19  23  ...  142.5   \n",
      "15  16        Daniel Jones  27  NYG  QB  1  1  0-1-0  22  42  ...   44.3   \n",
      "16  17      Jayden Daniels  24  WAS  QB  1  1  0-1-0  17  24  ...   93.1   \n",
      "17  18        Dak Prescott  31  DAL  QB  1  1  1-0-0  19  32  ...   85.3   \n",
      "18  19          Geno Smith  34  SEA  QB  1  1  1-0-0  18  25  ...   87.2   \n",
      "19  20      Deshaun Watson  29  CLE  QB  1  1  0-1-0  24  45  ...   51.1   \n",
      "20  21       Aaron Rodgers  41  NYJ  QB  1  1  0-1-0  13  21  ...   82.8   \n",
      "21  22          Joe Burrow  28  CIN  QB  1  1  0-1-0  21  29  ...   86.0   \n",
      "22  23     Trevor Lawrence  25  JAX  QB  1  1  0-1-0  12  21  ...   97.7   \n",
      "23  24        Kyler Murray  27  ARI  QB  1  1  0-1-0  21  31  ...   91.1   \n",
      "24  25         Bryce Young  23  CAR  QB  1  1  0-1-0  13  30  ...   32.8   \n",
      "25  26       Justin Fields  25  PIT  QB  1  1  1-0-0  17  23  ...   91.9   \n",
      "26  27        Kirk Cousins  36  ATL  QB  1  1  0-1-0  16  26  ...   59.0   \n",
      "27  28      Justin Herbert  26  LAC  QB  1  1  1-0-0  17  26  ...   92.5   \n",
      "28  29              Bo Nix  24  DEN  QB  1  1  0-1-0  26  42  ...   47.5   \n",
      "29  30          Will Levis  25  TEN  QB  1  1  0-1-0  19  32  ...   52.5   \n",
      "30  31     Jacoby Brissett  32  NWE  QB  1  1  1-0-0  15  24  ...   75.2   \n",
      "31  32      Caleb Williams  23  CHI  QB  1  1  1-0-0  14  29  ...   55.7   \n",
      "32  33     Skylar Thompson  27  MIA  QB  1  0          8  14  ...   73.5   \n",
      "33  34        Tyrod Taylor  35  NYJ  QB  1  0          6   8  ...  122.9   \n",
      "34  35         Jake Haener  25  NOR  QB  1  0          0   1  ...   39.6   \n",
      "35  36        Deebo Samuel  28  SFO  WR  1  1          0   0  ...          \n",
      "36  37         Andy Dalton  37  CAR  QB  1  0          0   1  ...   39.6   \n",
      "37  38        Malik Willis  25  GNB  QB  1  0          0   1  ...   39.6   \n",
      "38          League Average                                    ...   84.6   \n",
      "\n",
      "     QBR Sk Yds     Sk%   NY/A  ANY/A 4QC GWD Awards  \n",
      "0   36.5  4  25    6.06   6.94   5.50   1   1         \n",
      "1   83.6  2  10    4.55   8.20   9.57   0   0         \n",
      "2   59.8  2  13    3.92   5.96   5.47   0   0         \n",
      "3   65.9  2  10    6.67   9.37   8.53   0   0         \n",
      "4   83.2  1   9    3.23   9.03  11.61   0   0         \n",
      "5   41.9  2  12    5.56   7.39   6.00   0   0         \n",
      "6   61.1  1   6    2.38   6.36   6.83   0   0         \n",
      "7   25.8  1   5    2.86   7.29   7.14   0   0         \n",
      "8   33.0  4  32   10.81   6.08   5.41   0   0         \n",
      "9   68.4  4  30   11.11   5.67   6.78   0   0         \n",
      "10  80.7  2   6    6.45   7.26   7.26   0   0         \n",
      "11  40.4  2  17    6.67   6.67   5.83   1   1         \n",
      "12  84.4  2  13    9.52   9.48   9.24   0   0         \n",
      "13  78.1  1   7    4.00   8.04   7.84   0   0         \n",
      "14  84.7  1   1    4.17   8.29  10.79   0   0         \n",
      "15  21.7  5  20   10.64   3.53   1.62   0   0         \n",
      "16  43.1  2  23    7.69   6.19   6.19   0   0         \n",
      "17  32.7  3  16    8.57   4.66   5.23   0   0         \n",
      "18  69.0  2  13    7.41   5.85   4.93   0   0         \n",
      "19  13.5  6  32   11.76   2.69   1.31   0   0         \n",
      "20  52.2  1   5    4.55   7.36   6.23   0   0         \n",
      "21  55.2  3  10    9.38   4.81   4.81   0   0         \n",
      "22  59.3  3  23   12.50   5.79   6.63   0   0         \n",
      "23  82.7  4  16   11.43   4.17   4.74   0   0         \n",
      "24  12.3  4  26   11.76   3.97   1.32   0   0         \n",
      "25  44.6  2  23    8.00   5.32   5.32   0   0         \n",
      "26  32.0  2  18    7.14   4.89   2.39   0   0         \n",
      "27  35.6  1   4    3.70   5.19   5.93   0   0         \n",
      "28  37.3  2   6    4.55   3.00   0.95   0   0         \n",
      "29  34.8  3  23    8.57   2.97   0.97   0   0         \n",
      "30  77.5  1   1    4.00   4.80   4.80   0   0         \n",
      "31  28.6  2  29    6.45   2.06   2.06   1   0         \n",
      "32   0.7  1   7    6.67   4.87   4.87   0   0         \n",
      "33  96.1  0   0    0.00   4.50   7.00   0   0         \n",
      "34   9.8  0   0    0.00   0.00   0.00   0   0         \n",
      "35        1   4  100.00  -4.00  -4.00   0   0         \n",
      "36   1.8  0   0    0.00   0.00   0.00   0   0         \n",
      "37  24.1  1   4   50.00  -2.00  -2.00   0   0         \n",
      "38                 7.17   5.72   5.33                 \n",
      "\n",
      "[39 rows x 33 columns]\n"
     ]
    }
   ],
   "source": [
    "df = scrape_nfl_player_passing_stats(\"https://www.pro-football-reference.com/years/2024/passing.htm\")\n",
    "print(df)"
   ],
   "metadata": {
    "collapsed": false,
    "ExecuteTime": {
     "end_time": "2024-09-15T22:14:16.033081Z",
     "start_time": "2024-09-15T22:14:15.644390Z"
    }
   },
   "id": "1079fb6accb54b71"
  },
  {
   "cell_type": "code",
   "execution_count": 34,
   "outputs": [],
   "source": [
    "def scrape_nfl_player_receiving_stats(url):\n",
    "    response = requests.get(url)\n",
    "\n",
    "    # Check if request is successful\n",
    "    if response.status_code == 200:\n",
    "        # Parse HTML content with Beautiful Soup \n",
    "        soup = BeautifulSoup(response.text, 'html.parser')\n",
    "\n",
    "        # Locate data table with its ID\n",
    "        table = soup.find('table', {'id': 'receiving'})\n",
    "\n",
    "        # Extract column headers from <thead>\n",
    "        headers = [th.text for th in table.find('thead').find_all('th')]\n",
    "\n",
    "        # Extract row data from <tbody>\n",
    "        rows = table.find('tbody').find_all('tr')\n",
    "\n",
    "        # Create list of lists w/ each cell from the table\n",
    "        data = [[td.text.strip() for td in row.find_all(['th', 'td'])] for row in rows]\n",
    "\n",
    "        # Output in pandas data frame format\n",
    "        df = pd.DataFrame(data, columns=headers)\n",
    "\n",
    "        print(\"Data and stats from Pro Football Reference (https://www.pro-football-reference.com/years/2024/receiving.htm)\")\n",
    "\n",
    "        return df\n",
    "\n",
    "    else:\n",
    "        # Error message if request fails\n",
    "        print(f\"Failed to retrieve the webpage. Status code: {response.status_code}\")"
   ],
   "metadata": {
    "collapsed": false,
    "ExecuteTime": {
     "end_time": "2024-09-15T22:14:16.037724Z",
     "start_time": "2024-09-15T22:14:16.031130Z"
    }
   },
   "id": "bb7013c0513fe468"
  },
  {
   "cell_type": "code",
   "execution_count": 35,
   "outputs": [
    {
     "name": "stdout",
     "output_type": "stream",
     "text": [
      "Data and stats from Pro Football Reference (https://www.pro-football-reference.com/years/2024/receiving.htm)\n",
      "      Rk            Player   Tm Age Pos  G GS Tgt Rec   Ctch%  Yds   Y/R TD  \\\n",
      "0      1     De'Von Achane  MIA  23  RB  2  1  14  14  100.0%  145  10.4  1   \n",
      "1      2       Cooper Kupp  LAR  31  WR  1  1  21  14   66.7%  110   7.9  1   \n",
      "2      3       Tyreek Hill  MIA  30  WR  2  2  18  10   55.6%  154  15.4  1   \n",
      "3      4     Isaiah Likely  BAL  24  TE  1  1  12   9   75.0%  111  12.3  1   \n",
      "4      5     Jaylen Waddle  MIA  26  WR  2  2   9   9  100.0%  150  16.7  0   \n",
      "..   ...               ...  ...  ..  .. .. ..  ..  ..     ...  ...   ... ..   \n",
      "255  248     Adam Trautman  DEN  27  TE  1  1   1   0    0.0%    0        0   \n",
      "256  249   KaVontae Turpin  DAL  28  WR  1  0   1   0    0.0%    0        0   \n",
      "257  250  Dontayvion Wicks  GNB  23  WR  1  0   3   0    0.0%    0        0   \n",
      "258  251     Johnny Wilson  PHI  23  WR  1  0   1   0    0.0%    0        0   \n",
      "259  252      Dareke Young  SEA  25  WR  1  0   1   0    0.0%    0        0   \n",
      "\n",
      "    1D Succ% Lng Y/Tgt   R/G    Y/G Fmb  \n",
      "0    7  78.6  39  10.4   7.0   72.5   0  \n",
      "1    6  57.1  21   5.2  14.0  110.0   0  \n",
      "2    6  38.9  80   8.6   5.0   77.0   0  \n",
      "3    5  75.0  49   9.3   9.0  111.0   0  \n",
      "4    6  66.7  63  16.7   4.5   75.0   0  \n",
      "..  ..   ...  ..   ...   ...    ...  ..  \n",
      "255  0   0.0   0   0.0   0.0    0.0   0  \n",
      "256  0   0.0   0   0.0   0.0    0.0   0  \n",
      "257  0   0.0   0   0.0   0.0    0.0   0  \n",
      "258  0   0.0   0   0.0   0.0    0.0   0  \n",
      "259  0   0.0   0   0.0   0.0    0.0   0  \n",
      "\n",
      "[260 rows x 20 columns]\n"
     ]
    }
   ],
   "source": [
    "df = scrape_nfl_player_receiving_stats(\"https://www.pro-football-reference.com/years/2024/receiving.htm#receiving\")\n",
    "print(df)"
   ],
   "metadata": {
    "collapsed": false,
    "ExecuteTime": {
     "end_time": "2024-09-15T22:14:16.303477Z",
     "start_time": "2024-09-15T22:14:16.039179Z"
    }
   },
   "id": "e953e8aa5b0bba6e"
  }
 ],
 "metadata": {
  "kernelspec": {
   "display_name": "Python 3",
   "language": "python",
   "name": "python3"
  },
  "language_info": {
   "codemirror_mode": {
    "name": "ipython",
    "version": 2
   },
   "file_extension": ".py",
   "mimetype": "text/x-python",
   "name": "python",
   "nbconvert_exporter": "python",
   "pygments_lexer": "ipython2",
   "version": "2.7.6"
  }
 },
 "nbformat": 4,
 "nbformat_minor": 5
}
